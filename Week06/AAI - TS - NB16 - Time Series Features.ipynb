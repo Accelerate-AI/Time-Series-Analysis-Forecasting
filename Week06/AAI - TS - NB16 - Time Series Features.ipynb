{
 "cells": [
  {
   "cell_type": "markdown",
   "id": "9fe7dac1",
   "metadata": {},
   "source": [
    "## AccelerateAI - Time Series Analysis and Forecasting\n",
    "\n",
    "### Time Series Feature Engineering"
   ]
  },
  {
   "cell_type": "code",
   "execution_count": 18,
   "id": "a4727af8",
   "metadata": {},
   "outputs": [],
   "source": [
    "import pandas as pd\n",
    "\n",
    "from sktime.transformations.series.lag import Lag"
   ]
  },
  {
   "cell_type": "code",
   "execution_count": 2,
   "id": "36f6f994",
   "metadata": {},
   "outputs": [],
   "source": [
    "from sktime.datasets import load_airline\n",
    "X = load_airline()"
   ]
  },
  {
   "cell_type": "code",
   "execution_count": 4,
   "id": "93f0d91c",
   "metadata": {},
   "outputs": [
    {
     "data": {
      "text/plain": [
       "Period\n",
       "1949-01    112.0\n",
       "1949-02    118.0\n",
       "1949-03    132.0\n",
       "1949-04    129.0\n",
       "1949-05    121.0\n",
       "Freq: M, Name: Number of airline passengers, dtype: float64"
      ]
     },
     "execution_count": 4,
     "metadata": {},
     "output_type": "execute_result"
    }
   ],
   "source": [
    "X[0:5]"
   ]
  },
  {
   "cell_type": "code",
   "execution_count": 10,
   "id": "0edc8f4c",
   "metadata": {},
   "outputs": [
    {
     "data": {
      "text/plain": [
       "Period\n",
       "1949-01      NaN\n",
       "1949-02    112.0\n",
       "1949-03    118.0\n",
       "1949-04    132.0\n",
       "1949-05    129.0\n",
       "Freq: M, dtype: float64"
      ]
     },
     "execution_count": 10,
     "metadata": {},
     "output_type": "execute_result"
    }
   ],
   "source": [
    "t1 = Lag(1)\n",
    "X_1 = t1.fit_transform(X)\n",
    "X_1[0:5]"
   ]
  },
  {
   "cell_type": "code",
   "execution_count": 15,
   "id": "82d18794",
   "metadata": {},
   "outputs": [
    {
     "data": {
      "text/html": [
       "<div>\n",
       "<style scoped>\n",
       "    .dataframe tbody tr th:only-of-type {\n",
       "        vertical-align: middle;\n",
       "    }\n",
       "\n",
       "    .dataframe tbody tr th {\n",
       "        vertical-align: top;\n",
       "    }\n",
       "\n",
       "    .dataframe thead th {\n",
       "        text-align: right;\n",
       "    }\n",
       "</style>\n",
       "<table border=\"1\" class=\"dataframe\">\n",
       "  <thead>\n",
       "    <tr style=\"text-align: right;\">\n",
       "      <th></th>\n",
       "      <th>lag_2__Number of airline passengers</th>\n",
       "      <th>lag_3__Number of airline passengers</th>\n",
       "      <th>lag_4__Number of airline passengers</th>\n",
       "    </tr>\n",
       "    <tr>\n",
       "      <th>Period</th>\n",
       "      <th></th>\n",
       "      <th></th>\n",
       "      <th></th>\n",
       "    </tr>\n",
       "  </thead>\n",
       "  <tbody>\n",
       "    <tr>\n",
       "      <th>1949-01</th>\n",
       "      <td>NaN</td>\n",
       "      <td>NaN</td>\n",
       "      <td>NaN</td>\n",
       "    </tr>\n",
       "    <tr>\n",
       "      <th>1949-02</th>\n",
       "      <td>NaN</td>\n",
       "      <td>NaN</td>\n",
       "      <td>NaN</td>\n",
       "    </tr>\n",
       "    <tr>\n",
       "      <th>1949-03</th>\n",
       "      <td>112.0</td>\n",
       "      <td>NaN</td>\n",
       "      <td>NaN</td>\n",
       "    </tr>\n",
       "    <tr>\n",
       "      <th>1949-04</th>\n",
       "      <td>118.0</td>\n",
       "      <td>112.0</td>\n",
       "      <td>NaN</td>\n",
       "    </tr>\n",
       "    <tr>\n",
       "      <th>1949-05</th>\n",
       "      <td>132.0</td>\n",
       "      <td>118.0</td>\n",
       "      <td>112.0</td>\n",
       "    </tr>\n",
       "  </tbody>\n",
       "</table>\n",
       "</div>"
      ],
      "text/plain": [
       "         lag_2__Number of airline passengers  \\\n",
       "Period                                         \n",
       "1949-01                                  NaN   \n",
       "1949-02                                  NaN   \n",
       "1949-03                                112.0   \n",
       "1949-04                                118.0   \n",
       "1949-05                                132.0   \n",
       "\n",
       "         lag_3__Number of airline passengers  \\\n",
       "Period                                         \n",
       "1949-01                                  NaN   \n",
       "1949-02                                  NaN   \n",
       "1949-03                                  NaN   \n",
       "1949-04                                112.0   \n",
       "1949-05                                118.0   \n",
       "\n",
       "         lag_4__Number of airline passengers  \n",
       "Period                                        \n",
       "1949-01                                  NaN  \n",
       "1949-02                                  NaN  \n",
       "1949-03                                  NaN  \n",
       "1949-04                                  NaN  \n",
       "1949-05                                112.0  "
      ]
     },
     "execution_count": 15,
     "metadata": {},
     "output_type": "execute_result"
    }
   ],
   "source": [
    "t2 = Lag([2, 3, 4])\n",
    "X_2 = t2.fit_transform(X)\n",
    "X_2[0:5]"
   ]
  },
  {
   "cell_type": "code",
   "execution_count": 35,
   "id": "9d7089d7",
   "metadata": {},
   "outputs": [],
   "source": [
    "#Convert to dataframe\n",
    "df = pd.DataFrame(X).rename(columns={'Number of airline passengers': 'passengers'})\n",
    "df['Date'] = df.index"
   ]
  },
  {
   "cell_type": "code",
   "execution_count": 36,
   "id": "e18977dd",
   "metadata": {},
   "outputs": [
    {
     "data": {
      "text/html": [
       "<div>\n",
       "<style scoped>\n",
       "    .dataframe tbody tr th:only-of-type {\n",
       "        vertical-align: middle;\n",
       "    }\n",
       "\n",
       "    .dataframe tbody tr th {\n",
       "        vertical-align: top;\n",
       "    }\n",
       "\n",
       "    .dataframe thead th {\n",
       "        text-align: right;\n",
       "    }\n",
       "</style>\n",
       "<table border=\"1\" class=\"dataframe\">\n",
       "  <thead>\n",
       "    <tr style=\"text-align: right;\">\n",
       "      <th></th>\n",
       "      <th>passengers</th>\n",
       "      <th>Date</th>\n",
       "    </tr>\n",
       "    <tr>\n",
       "      <th>Period</th>\n",
       "      <th></th>\n",
       "      <th></th>\n",
       "    </tr>\n",
       "  </thead>\n",
       "  <tbody>\n",
       "    <tr>\n",
       "      <th>1949-01</th>\n",
       "      <td>112.0</td>\n",
       "      <td>1949-01</td>\n",
       "    </tr>\n",
       "    <tr>\n",
       "      <th>1949-02</th>\n",
       "      <td>118.0</td>\n",
       "      <td>1949-02</td>\n",
       "    </tr>\n",
       "    <tr>\n",
       "      <th>1949-03</th>\n",
       "      <td>132.0</td>\n",
       "      <td>1949-03</td>\n",
       "    </tr>\n",
       "    <tr>\n",
       "      <th>1949-04</th>\n",
       "      <td>129.0</td>\n",
       "      <td>1949-04</td>\n",
       "    </tr>\n",
       "    <tr>\n",
       "      <th>1949-05</th>\n",
       "      <td>121.0</td>\n",
       "      <td>1949-05</td>\n",
       "    </tr>\n",
       "  </tbody>\n",
       "</table>\n",
       "</div>"
      ],
      "text/plain": [
       "         passengers     Date\n",
       "Period                      \n",
       "1949-01       112.0  1949-01\n",
       "1949-02       118.0  1949-02\n",
       "1949-03       132.0  1949-03\n",
       "1949-04       129.0  1949-04\n",
       "1949-05       121.0  1949-05"
      ]
     },
     "execution_count": 36,
     "metadata": {},
     "output_type": "execute_result"
    }
   ],
   "source": [
    "df.head()"
   ]
  },
  {
   "cell_type": "code",
   "execution_count": 40,
   "id": "57e38866",
   "metadata": {},
   "outputs": [],
   "source": [
    "from tsfresh import extract_features\n",
    "#extracted_features = extract_features(df, column_id=\"Date\")"
   ]
  },
  {
   "cell_type": "code",
   "execution_count": null,
   "id": "97ae9ebc",
   "metadata": {},
   "outputs": [],
   "source": []
  }
 ],
 "metadata": {
  "kernelspec": {
   "display_name": "Python 3 (ipykernel)",
   "language": "python",
   "name": "python3"
  },
  "language_info": {
   "codemirror_mode": {
    "name": "ipython",
    "version": 3
   },
   "file_extension": ".py",
   "mimetype": "text/x-python",
   "name": "python",
   "nbconvert_exporter": "python",
   "pygments_lexer": "ipython3",
   "version": "3.9.12"
  }
 },
 "nbformat": 4,
 "nbformat_minor": 5
}
