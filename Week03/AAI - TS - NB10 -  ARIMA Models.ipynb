{
 "cells": [
  {
   "cell_type": "markdown",
   "id": "646da37a",
   "metadata": {},
   "source": [
    "## AccelerateAI - Time Series Analysis and Forecasting\n",
    "\n",
    "### ARIMA Models"
   ]
  },
  {
   "cell_type": "code",
   "execution_count": 11,
   "id": "65be6186",
   "metadata": {},
   "outputs": [],
   "source": [
    "import numpy as np \n",
    "import pandas as pd \n",
    "\n",
    "import matplotlib.pyplot as plt"
   ]
  },
  {
   "cell_type": "code",
   "execution_count": 4,
   "id": "9d38f330",
   "metadata": {},
   "outputs": [],
   "source": [
    "# Read the daily website visits data\n",
    "visits=pd.read_csv('website-visits.csv')"
   ]
  },
  {
   "cell_type": "code",
   "execution_count": 5,
   "id": "30a9cec8",
   "metadata": {},
   "outputs": [
    {
     "data": {
      "text/html": [
       "<div>\n",
       "<style scoped>\n",
       "    .dataframe tbody tr th:only-of-type {\n",
       "        vertical-align: middle;\n",
       "    }\n",
       "\n",
       "    .dataframe tbody tr th {\n",
       "        vertical-align: top;\n",
       "    }\n",
       "\n",
       "    .dataframe thead th {\n",
       "        text-align: right;\n",
       "    }\n",
       "</style>\n",
       "<table border=\"1\" class=\"dataframe\">\n",
       "  <thead>\n",
       "    <tr style=\"text-align: right;\">\n",
       "      <th></th>\n",
       "      <th>Row</th>\n",
       "      <th>Day</th>\n",
       "      <th>DayOfWeek</th>\n",
       "      <th>Date</th>\n",
       "      <th>PageLoads</th>\n",
       "      <th>UniqueVisits</th>\n",
       "      <th>FirstTimeVisits</th>\n",
       "      <th>ReturningVisits</th>\n",
       "    </tr>\n",
       "  </thead>\n",
       "  <tbody>\n",
       "    <tr>\n",
       "      <th>0</th>\n",
       "      <td>1</td>\n",
       "      <td>Sunday</td>\n",
       "      <td>1</td>\n",
       "      <td>2014-09-14</td>\n",
       "      <td>2146</td>\n",
       "      <td>1582</td>\n",
       "      <td>1430</td>\n",
       "      <td>152</td>\n",
       "    </tr>\n",
       "    <tr>\n",
       "      <th>1</th>\n",
       "      <td>2</td>\n",
       "      <td>Monday</td>\n",
       "      <td>2</td>\n",
       "      <td>2014-09-15</td>\n",
       "      <td>3621</td>\n",
       "      <td>2528</td>\n",
       "      <td>2297</td>\n",
       "      <td>231</td>\n",
       "    </tr>\n",
       "    <tr>\n",
       "      <th>2</th>\n",
       "      <td>3</td>\n",
       "      <td>Tuesday</td>\n",
       "      <td>3</td>\n",
       "      <td>2014-09-16</td>\n",
       "      <td>3698</td>\n",
       "      <td>2630</td>\n",
       "      <td>2352</td>\n",
       "      <td>278</td>\n",
       "    </tr>\n",
       "    <tr>\n",
       "      <th>3</th>\n",
       "      <td>4</td>\n",
       "      <td>Wednesday</td>\n",
       "      <td>4</td>\n",
       "      <td>2014-09-17</td>\n",
       "      <td>3667</td>\n",
       "      <td>2614</td>\n",
       "      <td>2327</td>\n",
       "      <td>287</td>\n",
       "    </tr>\n",
       "    <tr>\n",
       "      <th>4</th>\n",
       "      <td>5</td>\n",
       "      <td>Thursday</td>\n",
       "      <td>5</td>\n",
       "      <td>2014-09-18</td>\n",
       "      <td>3316</td>\n",
       "      <td>2366</td>\n",
       "      <td>2130</td>\n",
       "      <td>236</td>\n",
       "    </tr>\n",
       "  </tbody>\n",
       "</table>\n",
       "</div>"
      ],
      "text/plain": [
       "   Row        Day  DayOfWeek       Date  PageLoads  UniqueVisits  \\\n",
       "0    1     Sunday          1 2014-09-14       2146          1582   \n",
       "1    2     Monday          2 2014-09-15       3621          2528   \n",
       "2    3    Tuesday          3 2014-09-16       3698          2630   \n",
       "3    4  Wednesday          4 2014-09-17       3667          2614   \n",
       "4    5   Thursday          5 2014-09-18       3316          2366   \n",
       "\n",
       "   FirstTimeVisits  ReturningVisits  \n",
       "0             1430              152  \n",
       "1             2297              231  \n",
       "2             2352              278  \n",
       "3             2327              287  \n",
       "4             2130              236  "
      ]
     },
     "execution_count": 5,
     "metadata": {},
     "output_type": "execute_result"
    }
   ],
   "source": [
    "# Data Cleaning\n",
    "visits=visits.replace(',','',regex=True)\n",
    "visits['PageLoads']=visits['PageLoads'].astype(int)\n",
    "visits['UniqueVisits']=visits['UniqueVisits'].astype(int)\n",
    "visits['FirstTimeVisits']=visits['FirstTimeVisits'].astype(int)\n",
    "visits['ReturningVisits']=visits['ReturningVisits'].astype(int)\n",
    "\n",
    "#Convert to datetime\n",
    "visits['Date']= pd.to_datetime(visits['Date'])\n",
    "\n",
    "#Check\n",
    "visits.head()"
   ]
  },
  {
   "cell_type": "markdown",
   "id": "bb4eb912",
   "metadata": {},
   "source": [
    "### ARIMA using StatsModels "
   ]
  },
  {
   "cell_type": "code",
   "execution_count": 7,
   "id": "77adb13f",
   "metadata": {},
   "outputs": [
    {
     "name": "stdout",
     "output_type": "stream",
     "text": [
      "                               SARIMAX Results                                \n",
      "==============================================================================\n",
      "Dep. Variable:           UniqueVisits   No. Observations:                 2167\n",
      "Model:                 ARIMA(5, 0, 0)   Log Likelihood              -16195.467\n",
      "Date:                Sat, 29 Oct 2022   AIC                          32404.935\n",
      "Time:                        12:04:58   BIC                          32444.702\n",
      "Sample:                             0   HQIC                         32419.477\n",
      "                               - 2167                                         \n",
      "Covariance Type:                  opg                                         \n",
      "==============================================================================\n",
      "                 coef    std err          z      P>|z|      [0.025      0.975]\n",
      "------------------------------------------------------------------------------\n",
      "const       2943.6465    105.182     27.986      0.000    2737.494    3149.799\n",
      "ar.L1          1.3480      0.018     73.140      0.000       1.312       1.384\n",
      "ar.L2         -1.1884      0.031    -38.061      0.000      -1.250      -1.127\n",
      "ar.L3          0.9674      0.039     24.868      0.000       0.891       1.044\n",
      "ar.L4         -0.7951      0.036    -21.935      0.000      -0.866      -0.724\n",
      "ar.L5          0.5677      0.022     25.771      0.000       0.525       0.611\n",
      "sigma2      1.813e+05   5873.310     30.874      0.000     1.7e+05    1.93e+05\n",
      "===================================================================================\n",
      "Ljung-Box (L1) (Q):                 324.69   Jarque-Bera (JB):                58.16\n",
      "Prob(Q):                              0.00   Prob(JB):                         0.00\n",
      "Heteroskedasticity (H):               0.90   Skew:                            -0.40\n",
      "Prob(H) (two-sided):                  0.16   Kurtosis:                         3.02\n",
      "===================================================================================\n",
      "\n",
      "Warnings:\n",
      "[1] Covariance matrix calculated using the outer product of gradients (complex-step).\n"
     ]
    }
   ],
   "source": [
    "from statsmodels.tsa.arima.model import ARIMA\n",
    "\n",
    "# fit model\n",
    "series = visits['UniqueVisits']\n",
    "model = ARIMA(series, order=(5,0,0))\n",
    "model_fit = model.fit()\n",
    "\n",
    "# summary of fit model\n",
    "print(model_fit.summary())"
   ]
  },
  {
   "cell_type": "code",
   "execution_count": 26,
   "id": "1c9f37ca",
   "metadata": {},
   "outputs": [
    {
     "data": {
      "image/png": "[encoded data removed]",
      "text/plain": [
       "<Figure size 720x288 with 2 Axes>"
      ]
     },
     "metadata": {
      "needs_background": "light"
     },
     "output_type": "display_data"
    }
   ],
   "source": [
    "import matplotlib.pyplot as plt\n",
    "residuals = model_fit.resid[1:]\n",
    "fig, ax = plt.subplots(1,2, figsize=(10, 4))\n",
    "residuals.plot(title='Residuals', ax=ax[0])\n",
    "residuals.plot(title='Density', kind='kde', ax=ax[1])\n",
    "plt.show()"
   ]
  },
  {
   "cell_type": "code",
   "execution_count": 29,
   "id": "a0c6e5df",
   "metadata": {},
   "outputs": [
    {
     "data": {
      "image/png": "[encoded data removed]",
      "text/plain": [
       "<Figure size 432x288 with 1 Axes>"
      ]
     },
     "metadata": {
      "needs_background": "light"
     },
     "output_type": "display_data"
    },
    {
     "data": {
      "image/png": "[encoded data removed]",
      "text/plain": [
       "<Figure size 432x288 with 1 Axes>"
      ]
     },
     "metadata": {
      "needs_background": "light"
     },
     "output_type": "display_data"
    }
   ],
   "source": [
    "#ACF and PACF or residuals\n",
    "from statsmodels.graphics.tsaplots import plot_acf, plot_pacf\n",
    "\n",
    "acf_res = plot_acf(residuals)\n",
    "pacf_res = plot_pacf(residuals, method='ywm')"
   ]
  },
  {
   "cell_type": "code",
   "execution_count": 31,
   "id": "f4e225f4",
   "metadata": {},
   "outputs": [
    {
     "name": "stdout",
     "output_type": "stream",
     "text": [
      "                               SARIMAX Results                                \n",
      "==============================================================================\n",
      "Dep. Variable:           UniqueVisits   No. Observations:                 2167\n",
      "Model:                 ARIMA(5, 1, 1)   Log Likelihood              -15514.193\n",
      "Date:                Sat, 29 Oct 2022   AIC                          31042.387\n",
      "Time:                        12:23:49   BIC                          31082.151\n",
      "Sample:                             0   HQIC                         31056.929\n",
      "                               - 2167                                         \n",
      "Covariance Type:                  opg                                         \n",
      "==============================================================================\n",
      "                 coef    std err          z      P>|z|      [0.025      0.975]\n",
      "------------------------------------------------------------------------------\n",
      "ar.L1         -0.0019      0.023     -0.083      0.934      -0.046       0.043\n",
      "ar.L2         -0.6857      0.014    -48.319      0.000      -0.714      -0.658\n",
      "ar.L3         -0.3377      0.023    -14.839      0.000      -0.382      -0.293\n",
      "ar.L4         -0.3468      0.016    -21.505      0.000      -0.378      -0.315\n",
      "ar.L5         -0.6724      0.020    -33.583      0.000      -0.712      -0.633\n",
      "ma.L1         -0.0575      0.026     -2.206      0.027      -0.109      -0.006\n",
      "sigma2      9.777e+04   2789.007     35.056      0.000    9.23e+04    1.03e+05\n",
      "===================================================================================\n",
      "Ljung-Box (L1) (Q):                   1.23   Jarque-Bera (JB):               114.24\n",
      "Prob(Q):                              0.27   Prob(JB):                         0.00\n",
      "Heteroskedasticity (H):               1.01   Skew:                            -0.19\n",
      "Prob(H) (two-sided):                  0.89   Kurtosis:                         4.06\n",
      "===================================================================================\n",
      "\n",
      "Warnings:\n",
      "[1] Covariance matrix calculated using the outer product of gradients (complex-step).\n"
     ]
    }
   ],
   "source": [
    "model = ARIMA(series, order=(5,1,1))\n",
    "model_fit = model.fit()\n",
    "\n",
    "# summary of fit model\n",
    "print(model_fit.summary())"
   ]
  },
  {
   "cell_type": "code",
   "execution_count": 32,
   "id": "0c847696",
   "metadata": {},
   "outputs": [
    {
     "data": {
      "image/png": "[encoded data removed]",
      "text/plain": [
       "<Figure size 432x288 with 1 Axes>"
      ]
     },
     "metadata": {
      "needs_background": "light"
     },
     "output_type": "display_data"
    },
    {
     "data": {
      "image/png": "[encoded data removed]",
      "text/plain": [
       "<Figure size 432x288 with 1 Axes>"
      ]
     },
     "metadata": {
      "needs_background": "light"
     },
     "output_type": "display_data"
    }
   ],
   "source": [
    "residuals = model_fit.resid[1:]\n",
    "acf_res = plot_acf(residuals)\n",
    "pacf_res = plot_pacf(residuals, method='ywm')"
   ]
  },
  {
   "cell_type": "markdown",
   "id": "f3d15e92",
   "metadata": {},
   "source": [
    "### ARIMA using Sktime"
   ]
  },
  {
   "cell_type": "code",
   "execution_count": 36,
   "id": "bc247823",
   "metadata": {},
   "outputs": [],
   "source": [
    "from sktime.forecasting.arima import ARIMA"
   ]
  },
  {
   "cell_type": "code",
   "execution_count": 39,
   "id": "4a24f391",
   "metadata": {},
   "outputs": [
    {
     "name": "stdout",
     "output_type": "stream",
     "text": [
      "                               SARIMAX Results                                \n",
      "==============================================================================\n",
      "Dep. Variable:                      y   No. Observations:                 2167\n",
      "Model:               SARIMAX(5, 0, 0)   Log Likelihood              -16195.455\n",
      "Date:                Sat, 29 Oct 2022   AIC                          32404.911\n",
      "Time:                        16:19:57   BIC                          32444.679\n",
      "Sample:                             0   HQIC                         32419.454\n",
      "                               - 2167                                         \n",
      "Covariance Type:                  opg                                         \n",
      "==============================================================================\n",
      "                 coef    std err          z      P>|z|      [0.025      0.975]\n",
      "------------------------------------------------------------------------------\n",
      "intercept    296.5780     40.451      7.332      0.000     217.295     375.861\n",
      "ar.L1          1.3476      0.018     73.142      0.000       1.311       1.384\n",
      "ar.L2         -1.1882      0.031    -38.083      0.000      -1.249      -1.127\n",
      "ar.L3          0.9671      0.039     24.862      0.000       0.891       1.043\n",
      "ar.L4         -0.7950      0.036    -21.949      0.000      -0.866      -0.724\n",
      "ar.L5          0.5674      0.022     25.790      0.000       0.524       0.610\n",
      "sigma2      1.813e+05   5871.974     30.881      0.000     1.7e+05    1.93e+05\n",
      "===================================================================================\n",
      "Ljung-Box (L1) (Q):                 323.51   Jarque-Bera (JB):                57.97\n",
      "Prob(Q):                              0.00   Prob(JB):                         0.00\n",
      "Heteroskedasticity (H):               0.90   Skew:                            -0.40\n",
      "Prob(H) (two-sided):                  0.17   Kurtosis:                         3.02\n",
      "===================================================================================\n",
      "\n",
      "Warnings:\n",
      "[1] Covariance matrix calculated using the outer product of gradients (complex-step).\n"
     ]
    }
   ],
   "source": [
    "# fit model\n",
    "series = visits['UniqueVisits']\n",
    "skt_model = ARIMA(order=(5,0,0), suppress_warnings=True)\n",
    "skt_model.fit(series)\n",
    "\n",
    "# summary of fit model\n",
    "print(skt_model.summary())"
   ]
  },
  {
   "cell_type": "code",
   "execution_count": null,
   "id": "9533caad",
   "metadata": {},
   "outputs": [],
   "source": []
  },
  {
   "cell_type": "code",
   "execution_count": null,
   "id": "7bfb6593",
   "metadata": {},
   "outputs": [],
   "source": []
  }
 ],
 "metadata": {
  "kernelspec": {
   "display_name": "Python 3 (ipykernel)",
   "language": "python",
   "name": "python3"
  },
  "language_info": {
   "codemirror_mode": {
    "name": "ipython",
    "version": 3
   },
   "file_extension": ".py",
   "mimetype": "text/x-python",
   "name": "python",
   "nbconvert_exporter": "python",
   "pygments_lexer": "ipython3",
   "version": "3.9.12"
  }
 },
 "nbformat": 4,
 "nbformat_minor": 5
}
