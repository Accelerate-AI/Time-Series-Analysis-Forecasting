{
 "cells": [
  {
   "cell_type": "markdown",
   "id": "cafd4887",
   "metadata": {},
   "source": [
    "## AccelerateAI - Time Series Analysis and Forecasting\n",
    "\n",
    "### State Space Models"
   ]
  },
  {
   "cell_type": "code",
   "execution_count": 1,
   "id": "4651e81d",
   "metadata": {},
   "outputs": [],
   "source": [
    "import numpy as np\n",
    "from scipy.signal import lfilter\n",
    "import statsmodels.api as sm"
   ]
  },
  {
   "cell_type": "code",
   "execution_count": 2,
   "id": "21d6667e",
   "metadata": {},
   "outputs": [],
   "source": [
    "# True model parameters\n",
    "nobs = int(1e3)\n",
    "true_phi = np.r_[0.5, -0.2]\n",
    "true_sigma = 1**0.5"
   ]
  },
  {
   "cell_type": "code",
   "execution_count": 3,
   "id": "7cb97675",
   "metadata": {},
   "outputs": [],
   "source": [
    "# Simulate a time series\n",
    "np.random.seed(1234)\n",
    "disturbances = np.random.normal(0, true_sigma, size=(nobs,))\n",
    "endog = lfilter([1], np.r_[1, -true_phi], disturbances)"
   ]
  },
  {
   "cell_type": "code",
   "execution_count": 10,
   "id": "d5911a9d",
   "metadata": {},
   "outputs": [
    {
     "data": {
      "text/plain": [
       "[<matplotlib.lines.Line2D at 0x163930b0a30>]"
      ]
     },
     "execution_count": 10,
     "metadata": {},
     "output_type": "execute_result"
    },
    {
     "data": {
      "image/png": "[encoded data removed]",
      "text/plain": [
       "<Figure size 432x288 with 1 Axes>"
      ]
     },
     "metadata": {
      "needs_background": "light"
     },
     "output_type": "display_data"
    }
   ],
   "source": [
    "import matplotlib.pyplot as plt\n",
    "plt.plot(endog)"
   ]
  },
  {
   "cell_type": "code",
   "execution_count": 5,
   "id": "b08cfd29",
   "metadata": {},
   "outputs": [],
   "source": [
    "# Construct the model\n",
    "class AR2(sm.tsa.statespace.MLEModel):\n",
    "    def __init__(self, endog):\n",
    "        # Initialize the state space model\n",
    "        super(AR2, self).__init__(endog, k_states=2, k_posdef=1,\n",
    "                                  initialization='stationary')\n",
    "\n",
    "        # Setup the fixed components of the state space representation\n",
    "        self['design'] = [1, 0]\n",
    "        self['transition'] = [[0, 0],\n",
    "                             [1, 0]]\n",
    "        self['selection', 0, 0] = 1\n",
    "\n",
    "    # Describe how parameters enter the model\n",
    "    def update(self, params, transformed=True, **kwargs):\n",
    "        params = super(AR2, self).update(params, transformed, **kwargs)\n",
    "\n",
    "        self['transition', 0, :] = params[:2]\n",
    "        self['state_cov', 0, 0] = params[2]\n",
    "\n",
    "    # Specify start parameters and parameter names\n",
    "    @property\n",
    "    def start_params(self):\n",
    "        return [0,0,1]  # these are very simple"
   ]
  },
  {
   "cell_type": "code",
   "execution_count": 6,
   "id": "b9f9497e",
   "metadata": {},
   "outputs": [
    {
     "name": "stdout",
     "output_type": "stream",
     "text": [
      "                           Statespace Model Results                           \n",
      "==============================================================================\n",
      "Dep. Variable:                      y   No. Observations:                 1000\n",
      "Model:                            AR2   Log Likelihood               -1389.437\n",
      "Date:                Sat, 12 Nov 2022   AIC                           2784.874\n",
      "Time:                        16:39:02   BIC                           2799.598\n",
      "Sample:                             0   HQIC                          2790.470\n",
      "                               - 1000                                         \n",
      "Covariance Type:                  opg                                         \n",
      "==============================================================================\n",
      "                 coef    std err          z      P>|z|      [0.025      0.975]\n",
      "------------------------------------------------------------------------------\n",
      "param.0        0.4395      0.030     14.730      0.000       0.381       0.498\n",
      "param.1       -0.2055      0.032     -6.523      0.000      -0.267      -0.144\n",
      "param.2        0.9425      0.042     22.413      0.000       0.860       1.025\n",
      "===================================================================================\n",
      "Ljung-Box (L1) (Q):                   0.00   Jarque-Bera (JB):                 0.22\n",
      "Prob(Q):                              0.95   Prob(JB):                         0.90\n",
      "Heteroskedasticity (H):               1.05   Skew:                            -0.04\n",
      "Prob(H) (two-sided):                  0.66   Kurtosis:                         3.02\n",
      "===================================================================================\n",
      "\n",
      "Warnings:\n",
      "[1] Covariance matrix calculated using the outer product of gradients (complex-step).\n"
     ]
    }
   ],
   "source": [
    "# Create and fit the model\n",
    "mod = AR2(endog)\n",
    "res = mod.fit()\n",
    "print(res.summary())"
   ]
  },
  {
   "cell_type": "markdown",
   "id": "97686b8c",
   "metadata": {},
   "source": [
    "***"
   ]
  }
 ],
 "metadata": {
  "kernelspec": {
   "display_name": "Python 3 (ipykernel)",
   "language": "python",
   "name": "python3"
  },
  "language_info": {
   "codemirror_mode": {
    "name": "ipython",
    "version": 3
   },
   "file_extension": ".py",
   "mimetype": "text/x-python",
   "name": "python",
   "nbconvert_exporter": "python",
   "pygments_lexer": "ipython3",
   "version": "3.9.12"
  }
 },
 "nbformat": 4,
 "nbformat_minor": 5
}
