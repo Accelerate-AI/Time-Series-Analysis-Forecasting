{
 "cells": [
  {
   "cell_type": "markdown",
   "id": "646da37a",
   "metadata": {},
   "source": [
    "## AccelerateAI - Time Series Analysis and Forecasting\n",
    "\n",
    "### SARIMA Models"
   ]
  },
  {
   "cell_type": "code",
   "execution_count": 27,
   "id": "65be6186",
   "metadata": {},
   "outputs": [],
   "source": [
    "import numpy as np \n",
    "import pandas as pd \n",
    "\n",
    "import matplotlib.pyplot as plt"
   ]
  },
  {
   "cell_type": "code",
   "execution_count": 28,
   "id": "9d38f330",
   "metadata": {},
   "outputs": [],
   "source": [
    "# Read the daily website visits data\n",
    "visits=pd.read_csv('website-visits.csv')"
   ]
  },
  {
   "cell_type": "code",
   "execution_count": 29,
   "id": "30a9cec8",
   "metadata": {},
   "outputs": [
    {
     "data": {
      "text/html": [
       "<div>\n",
       "<style scoped>\n",
       "    .dataframe tbody tr th:only-of-type {\n",
       "        vertical-align: middle;\n",
       "    }\n",
       "\n",
       "    .dataframe tbody tr th {\n",
       "        vertical-align: top;\n",
       "    }\n",
       "\n",
       "    .dataframe thead th {\n",
       "        text-align: right;\n",
       "    }\n",
       "</style>\n",
       "<table border=\"1\" class=\"dataframe\">\n",
       "  <thead>\n",
       "    <tr style=\"text-align: right;\">\n",
       "      <th></th>\n",
       "      <th>Row</th>\n",
       "      <th>Day</th>\n",
       "      <th>DayOfWeek</th>\n",
       "      <th>Date</th>\n",
       "      <th>PageLoads</th>\n",
       "      <th>UniqueVisits</th>\n",
       "      <th>FirstTimeVisits</th>\n",
       "      <th>ReturningVisits</th>\n",
       "    </tr>\n",
       "  </thead>\n",
       "  <tbody>\n",
       "    <tr>\n",
       "      <th>0</th>\n",
       "      <td>1</td>\n",
       "      <td>Sunday</td>\n",
       "      <td>1</td>\n",
       "      <td>2014-09-14</td>\n",
       "      <td>2146</td>\n",
       "      <td>1582</td>\n",
       "      <td>1430</td>\n",
       "      <td>152</td>\n",
       "    </tr>\n",
       "    <tr>\n",
       "      <th>1</th>\n",
       "      <td>2</td>\n",
       "      <td>Monday</td>\n",
       "      <td>2</td>\n",
       "      <td>2014-09-15</td>\n",
       "      <td>3621</td>\n",
       "      <td>2528</td>\n",
       "      <td>2297</td>\n",
       "      <td>231</td>\n",
       "    </tr>\n",
       "    <tr>\n",
       "      <th>2</th>\n",
       "      <td>3</td>\n",
       "      <td>Tuesday</td>\n",
       "      <td>3</td>\n",
       "      <td>2014-09-16</td>\n",
       "      <td>3698</td>\n",
       "      <td>2630</td>\n",
       "      <td>2352</td>\n",
       "      <td>278</td>\n",
       "    </tr>\n",
       "    <tr>\n",
       "      <th>3</th>\n",
       "      <td>4</td>\n",
       "      <td>Wednesday</td>\n",
       "      <td>4</td>\n",
       "      <td>2014-09-17</td>\n",
       "      <td>3667</td>\n",
       "      <td>2614</td>\n",
       "      <td>2327</td>\n",
       "      <td>287</td>\n",
       "    </tr>\n",
       "    <tr>\n",
       "      <th>4</th>\n",
       "      <td>5</td>\n",
       "      <td>Thursday</td>\n",
       "      <td>5</td>\n",
       "      <td>2014-09-18</td>\n",
       "      <td>3316</td>\n",
       "      <td>2366</td>\n",
       "      <td>2130</td>\n",
       "      <td>236</td>\n",
       "    </tr>\n",
       "  </tbody>\n",
       "</table>\n",
       "</div>"
      ],
      "text/plain": [
       "   Row        Day  DayOfWeek       Date  PageLoads  UniqueVisits  \\\n",
       "0    1     Sunday          1 2014-09-14       2146          1582   \n",
       "1    2     Monday          2 2014-09-15       3621          2528   \n",
       "2    3    Tuesday          3 2014-09-16       3698          2630   \n",
       "3    4  Wednesday          4 2014-09-17       3667          2614   \n",
       "4    5   Thursday          5 2014-09-18       3316          2366   \n",
       "\n",
       "   FirstTimeVisits  ReturningVisits  \n",
       "0             1430              152  \n",
       "1             2297              231  \n",
       "2             2352              278  \n",
       "3             2327              287  \n",
       "4             2130              236  "
      ]
     },
     "execution_count": 29,
     "metadata": {},
     "output_type": "execute_result"
    }
   ],
   "source": [
    "# Data Cleaning\n",
    "visits=visits.replace(',','',regex=True)\n",
    "visits['PageLoads']=visits['PageLoads'].astype(int)\n",
    "visits['UniqueVisits']=visits['UniqueVisits'].astype(int)\n",
    "visits['FirstTimeVisits']=visits['FirstTimeVisits'].astype(int)\n",
    "visits['ReturningVisits']=visits['ReturningVisits'].astype(int)\n",
    "\n",
    "#Convert to datetime\n",
    "visits['Date']= pd.to_datetime(visits['Date'])\n",
    "\n",
    "#Check\n",
    "visits.head()"
   ]
  },
  {
   "cell_type": "code",
   "execution_count": null,
   "id": "f97f997b",
   "metadata": {},
   "outputs": [],
   "source": [
    "# Stationarity check \n",
    "from statsmodels.tsa.stattools import adfuller\n",
    "dftest = adfuller(visits['UniqueVisits'],autolag='AIC')\n",
    "dfoutput=pd.Series(dftest[0:4],index=['Test Statistic','p-value','#lags used','# Observations'])\n",
    "print(dfoutput)"
   ]
  },
  {
   "cell_type": "markdown",
   "id": "ff9eeca1",
   "metadata": {},
   "source": [
    "Conclusion: \n",
    "- H0: β = 0 (equivalent to φ = 1) =>  the time series has a unit root, meaning it is non-stationary \n",
    "- **p-value < 0.05**; We reject the H0. The data is stationary."
   ]
  },
  {
   "cell_type": "code",
   "execution_count": 30,
   "id": "6776f0d8",
   "metadata": {},
   "outputs": [
    {
     "data": {
      "image/png": "[encoded data removed]",
      "text/plain": [
       "<Figure size 432x288 with 1 Axes>"
      ]
     },
     "metadata": {
      "needs_background": "light"
     },
     "output_type": "display_data"
    },
    {
     "data": {
      "image/png": "[encoded data removed]",
      "text/plain": [
       "<Figure size 432x288 with 1 Axes>"
      ]
     },
     "metadata": {
      "needs_background": "light"
     },
     "output_type": "display_data"
    }
   ],
   "source": [
    "#ACF and PACF plots to identify model order\n",
    "from statsmodels.graphics.tsaplots import plot_acf, plot_pacf\n",
    "\n",
    "acf_res = plot_acf(visits['UniqueVisits'])\n",
    "pacf_res = plot_pacf(visits['UniqueVisits'], method='ywm')"
   ]
  },
  {
   "cell_type": "markdown",
   "id": "3ddd9066",
   "metadata": {},
   "source": [
    "### AutoARIMA using PDMARIMA "
   ]
  },
  {
   "cell_type": "code",
   "execution_count": null,
   "id": "7bfb6593",
   "metadata": {},
   "outputs": [],
   "source": [
    "from pmdarima.arima import auto_arima"
   ]
  },
  {
   "cell_type": "code",
   "execution_count": 31,
   "id": "a476fa67",
   "metadata": {},
   "outputs": [
    {
     "name": "stdout",
     "output_type": "stream",
     "text": [
      "Performing stepwise search to minimize aic\n",
      " ARIMA(1,1,1)(0,1,0)[7]             : AIC=inf, Time=0.59 sec\n",
      " ARIMA(0,1,0)(0,1,0)[7]             : AIC=30365.046, Time=0.06 sec\n",
      " ARIMA(1,1,0)(1,1,0)[7]             : AIC=30044.302, Time=0.52 sec\n",
      " ARIMA(0,1,1)(0,1,1)[7]             : AIC=29721.962, Time=1.20 sec\n",
      " ARIMA(0,1,1)(0,1,0)[7]             : AIC=30352.415, Time=0.11 sec\n",
      " ARIMA(0,1,1)(1,1,1)[7]             : AIC=inf, Time=2.82 sec\n",
      " ARIMA(0,1,1)(0,1,2)[7]             : AIC=29630.539, Time=4.22 sec\n",
      " ARIMA(0,1,1)(1,1,2)[7]             : AIC=inf, Time=6.35 sec\n",
      " ARIMA(0,1,0)(0,1,2)[7]             : AIC=29628.741, Time=2.13 sec\n",
      " ARIMA(0,1,0)(0,1,1)[7]             : AIC=29721.132, Time=0.41 sec\n",
      " ARIMA(0,1,0)(1,1,2)[7]             : AIC=inf, Time=7.55 sec\n",
      " ARIMA(0,1,0)(1,1,1)[7]             : AIC=inf, Time=1.30 sec\n",
      " ARIMA(1,1,0)(0,1,2)[7]             : AIC=29630.616, Time=4.68 sec\n",
      " ARIMA(1,1,1)(0,1,2)[7]             : AIC=inf, Time=5.18 sec\n",
      " ARIMA(0,1,0)(0,1,2)[7] intercept   : AIC=29630.693, Time=4.83 sec\n",
      "\n",
      "Best model:  ARIMA(0,1,0)(0,1,2)[7]          \n",
      "Total fit time: 41.979 seconds\n"
     ]
    }
   ],
   "source": [
    "series = visits['UniqueVisits']\n",
    "\n",
    "sa_model = auto_arima(series, start_p=1, start_q=1,\n",
    "                      test='adf',\n",
    "                      d=1, D=1, m=7,\n",
    "                      start_P=0, start_Q=0,\n",
    "                      max_P=2, max_Q=2,\n",
    "                      seasonal=True,   \n",
    "                      trace=True,\n",
    "                      error_action='ignore',  \n",
    "                      suppress_warnings=True, \n",
    "                      stepwise=True)"
   ]
  },
  {
   "cell_type": "code",
   "execution_count": 32,
   "id": "781adcf5",
   "metadata": {},
   "outputs": [
    {
     "data": {
      "text/html": [
       "<table class=\"simpletable\">\n",
       "<caption>SARIMAX Results</caption>\n",
       "<tr>\n",
       "  <th>Dep. Variable:</th>                    <td>y</td>                 <th>  No. Observations:  </th>    <td>2167</td>   \n",
       "</tr>\n",
       "<tr>\n",
       "  <th>Model:</th>           <td>SARIMAX(0, 1, 0)x(0, 1, [1, 2], 7)</td> <th>  Log Likelihood     </th> <td>-14811.371</td>\n",
       "</tr>\n",
       "<tr>\n",
       "  <th>Date:</th>                     <td>Sat, 05 Nov 2022</td>          <th>  AIC                </th>  <td>29628.741</td>\n",
       "</tr>\n",
       "<tr>\n",
       "  <th>Time:</th>                         <td>18:55:09</td>              <th>  BIC                </th>  <td>29645.774</td>\n",
       "</tr>\n",
       "<tr>\n",
       "  <th>Sample:</th>                           <td>0</td>                 <th>  HQIC               </th>  <td>29634.971</td>\n",
       "</tr>\n",
       "<tr>\n",
       "  <th></th>                               <td> - 2167</td>              <th>                     </th>      <td> </td>    \n",
       "</tr>\n",
       "<tr>\n",
       "  <th>Covariance Type:</th>                 <td>opg</td>                <th>                     </th>      <td> </td>    \n",
       "</tr>\n",
       "</table>\n",
       "<table class=\"simpletable\">\n",
       "<tr>\n",
       "      <td></td>        <th>coef</th>     <th>std err</th>      <th>z</th>      <th>P>|z|</th>  <th>[0.025</th>    <th>0.975]</th>  \n",
       "</tr>\n",
       "<tr>\n",
       "  <th>ma.S.L7</th>  <td>   -0.6599</td> <td>    0.016</td> <td>  -40.419</td> <td> 0.000</td> <td>   -0.692</td> <td>   -0.628</td>\n",
       "</tr>\n",
       "<tr>\n",
       "  <th>ma.S.L14</th> <td>   -0.2369</td> <td>    0.017</td> <td>  -14.278</td> <td> 0.000</td> <td>   -0.269</td> <td>   -0.204</td>\n",
       "</tr>\n",
       "<tr>\n",
       "  <th>sigma2</th>   <td> 5.299e+04</td> <td> 1086.297</td> <td>   48.781</td> <td> 0.000</td> <td> 5.09e+04</td> <td> 5.51e+04</td>\n",
       "</tr>\n",
       "</table>\n",
       "<table class=\"simpletable\">\n",
       "<tr>\n",
       "  <th>Ljung-Box (L1) (Q):</th>     <td>0.12</td> <th>  Jarque-Bera (JB):  </th> <td>730.28</td>\n",
       "</tr>\n",
       "<tr>\n",
       "  <th>Prob(Q):</th>                <td>0.72</td> <th>  Prob(JB):          </th>  <td>0.00</td> \n",
       "</tr>\n",
       "<tr>\n",
       "  <th>Heteroskedasticity (H):</th> <td>1.22</td> <th>  Skew:              </th>  <td>0.20</td> \n",
       "</tr>\n",
       "<tr>\n",
       "  <th>Prob(H) (two-sided):</th>    <td>0.01</td> <th>  Kurtosis:          </th>  <td>5.82</td> \n",
       "</tr>\n",
       "</table><br/><br/>Warnings:<br/>[1] Covariance matrix calculated using the outer product of gradients (complex-step)."
      ],
      "text/plain": [
       "<class 'statsmodels.iolib.summary.Summary'>\n",
       "\"\"\"\n",
       "                                       SARIMAX Results                                        \n",
       "==============================================================================================\n",
       "Dep. Variable:                                      y   No. Observations:                 2167\n",
       "Model:             SARIMAX(0, 1, 0)x(0, 1, [1, 2], 7)   Log Likelihood              -14811.371\n",
       "Date:                                Sat, 05 Nov 2022   AIC                          29628.741\n",
       "Time:                                        18:55:09   BIC                          29645.774\n",
       "Sample:                                             0   HQIC                         29634.971\n",
       "                                               - 2167                                         \n",
       "Covariance Type:                                  opg                                         \n",
       "==============================================================================\n",
       "                 coef    std err          z      P>|z|      [0.025      0.975]\n",
       "------------------------------------------------------------------------------\n",
       "ma.S.L7       -0.6599      0.016    -40.419      0.000      -0.692      -0.628\n",
       "ma.S.L14      -0.2369      0.017    -14.278      0.000      -0.269      -0.204\n",
       "sigma2      5.299e+04   1086.297     48.781      0.000    5.09e+04    5.51e+04\n",
       "===================================================================================\n",
       "Ljung-Box (L1) (Q):                   0.12   Jarque-Bera (JB):               730.28\n",
       "Prob(Q):                              0.72   Prob(JB):                         0.00\n",
       "Heteroskedasticity (H):               1.22   Skew:                             0.20\n",
       "Prob(H) (two-sided):                  0.01   Kurtosis:                         5.82\n",
       "===================================================================================\n",
       "\n",
       "Warnings:\n",
       "[1] Covariance matrix calculated using the outer product of gradients (complex-step).\n",
       "\"\"\""
      ]
     },
     "execution_count": 32,
     "metadata": {},
     "output_type": "execute_result"
    }
   ],
   "source": [
    "sa_model.summary()"
   ]
  },
  {
   "cell_type": "code",
   "execution_count": 33,
   "id": "24950acc",
   "metadata": {},
   "outputs": [
    {
     "name": "stdout",
     "output_type": "stream",
     "text": [
      "                                      SARIMAX Results                                       \n",
      "============================================================================================\n",
      "Dep. Variable:                         UniqueVisits   No. Observations:                 2167\n",
      "Model:             ARIMA(0, 1, 0)x(0, 1, [1, 2], 7)   Log Likelihood              -14811.371\n",
      "Date:                              Sat, 05 Nov 2022   AIC                          29628.741\n",
      "Time:                                      18:55:43   BIC                          29645.774\n",
      "Sample:                                           0   HQIC                         29634.971\n",
      "                                             - 2167                                         \n",
      "Covariance Type:                                opg                                         \n",
      "==============================================================================\n",
      "                 coef    std err          z      P>|z|      [0.025      0.975]\n",
      "------------------------------------------------------------------------------\n",
      "ma.S.L7       -0.6599      0.016    -40.420      0.000      -0.692      -0.628\n",
      "ma.S.L14      -0.2369      0.017    -14.278      0.000      -0.269      -0.204\n",
      "sigma2      5.299e+04   1086.303     48.781      0.000    5.09e+04    5.51e+04\n",
      "===================================================================================\n",
      "Ljung-Box (L1) (Q):                   0.12   Jarque-Bera (JB):               730.27\n",
      "Prob(Q):                              0.72   Prob(JB):                         0.00\n",
      "Heteroskedasticity (H):               1.22   Skew:                             0.20\n",
      "Prob(H) (two-sided):                  0.01   Kurtosis:                         5.82\n",
      "===================================================================================\n",
      "\n",
      "Warnings:\n",
      "[1] Covariance matrix calculated using the outer product of gradients (complex-step).\n"
     ]
    }
   ],
   "source": [
    "# Check with Statsmodels \n",
    "from statsmodels.tsa.arima.model import ARIMA\n",
    "model = ARIMA(series, order=(0,1,0),\n",
    "              seasonal_order=(0,1,2,7),\n",
    "              enforce_invertibility=False)\n",
    "\n",
    "sm_model=model.fit()\n",
    "\n",
    "print(sm_model.summary())"
   ]
  },
  {
   "cell_type": "code",
   "execution_count": 34,
   "id": "347ca78a",
   "metadata": {},
   "outputs": [
    {
     "data": {
      "image/png": "[encoded data removed]",
      "text/plain": [
       "<Figure size 864x432 with 4 Axes>"
      ]
     },
     "metadata": {
      "needs_background": "light"
     },
     "output_type": "display_data"
    }
   ],
   "source": [
    "# Residual Plots \n",
    "residuals = sm_model.resid[1:]\n",
    "\n",
    "fig, ax = plt.subplots(2, 2, figsize=(12, 6))\n",
    "residuals.plot(title='Residuals', ax=ax[0][0])\n",
    "residuals.plot(title='Density', kind='kde', ax=ax[0][1])\n",
    "plot_acf(residuals, ax=ax[1][0])\n",
    "plot_pacf(residuals, method='ywm', ax=ax[1][1])\n",
    "plt.show()"
   ]
  },
  {
   "cell_type": "markdown",
   "id": "594acbd7",
   "metadata": {},
   "source": [
    "***"
   ]
  }
 ],
 "metadata": {
  "kernelspec": {
   "display_name": "Python 3 (ipykernel)",
   "language": "python",
   "name": "python3"
  },
  "language_info": {
   "codemirror_mode": {
    "name": "ipython",
    "version": 3
   },
   "file_extension": ".py",
   "mimetype": "text/x-python",
   "name": "python",
   "nbconvert_exporter": "python",
   "pygments_lexer": "ipython3",
   "version": "3.9.12"
  }
 },
 "nbformat": 4,
 "nbformat_minor": 5
}
